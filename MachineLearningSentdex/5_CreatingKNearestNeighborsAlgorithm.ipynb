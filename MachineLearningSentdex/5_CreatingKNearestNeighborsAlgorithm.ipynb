{
 "metadata": {
  "language_info": {
   "codemirror_mode": {
    "name": "ipython",
    "version": 3
   },
   "file_extension": ".py",
   "mimetype": "text/x-python",
   "name": "python",
   "nbconvert_exporter": "python",
   "pygments_lexer": "ipython3",
   "version": "3.8.10"
  },
  "orig_nbformat": 2,
  "kernelspec": {
   "name": "python3",
   "display_name": "Python 3.8.10 64-bit ('MLEnv': conda)"
  },
  "interpreter": {
   "hash": "08c69c18d40957683e009b324eccd50698d32a0e1363c2d903575727cdb7d6c7"
  }
 },
 "nbformat": 4,
 "nbformat_minor": 2,
 "cells": [
  {
   "cell_type": "markdown",
   "source": [
    "# Creating Our K Nearest Neighbors Algorithm"
   ],
   "metadata": {}
  },
  {
   "cell_type": "code",
   "execution_count": 1,
   "source": [
    "from math import sqrt\r\n",
    "import numpy as np\r\n",
    "import matplotlib.pyplot as plt\r\n",
    "import warnings\r\n",
    "from matplotlib import style\r\n",
    "from collections import Counter\r\n",
    "import pandas as pd\r\n",
    "import random\r\n",
    "\r\n",
    "style.use('fivethirtyeight')"
   ],
   "outputs": [],
   "metadata": {}
  },
  {
   "cell_type": "code",
   "execution_count": 2,
   "source": [
    "dataset = {'k':[[1, 2], [2, 3], [3, 1]], 'r':[[6,5], [7,7], [8, 6]]}\r\n",
    "new_features = [5, 7]"
   ],
   "outputs": [],
   "metadata": {}
  },
  {
   "cell_type": "code",
   "execution_count": 3,
   "source": [
    "[[plt.scatter(ii[0], ii[1], s=100, color=i) for ii in dataset[i]] for i in dataset]\r\n",
    "plt.scatter(new_features[0], new_features[1])\r\n",
    "plt.show()   "
   ],
   "outputs": [
    {
     "output_type": "display_data",
     "data": {
      "text/plain": [
       "<Figure size 432x288 with 1 Axes>"
      ],
      "image/png": "[encoded data removed]"
     },
     "metadata": {}
    }
   ],
   "metadata": {}
  },
  {
   "cell_type": "code",
   "execution_count": 4,
   "source": [
    "def k_nearest_neighbors(data, predict, k=3):\r\n",
    "    if len(data) >= k:\r\n",
    "        \"\"\"the k value should be more than number of classes.\"\"\"\r\n",
    "        warnings.warn('K is set  to a value less than total voting groups!')\r\n",
    "    distances = list()\r\n",
    "    for group in data:\r\n",
    "        for features in data[group]:\r\n",
    "            euclidean_distance = np.linalg.norm(np.array(features) - np.array(predict))\r\n",
    "            distances.append([euclidean_distance, group])\r\n",
    "    \r\n",
    "    votes = [i[1] for i in sorted(distances) [:k]]\r\n",
    "    \"\"\"\r\n",
    "    most_common:\r\n",
    "    List the n most common elements and their counts from the most common to the least.\r\n",
    "    If n is None, then list all element counts.\r\n",
    "    \"\"\"\r\n",
    "    # print(Counter(votes).most_common(1))\r\n",
    "    # print(Counter(votes).most_common(1)[0])\r\n",
    "    vote_result = Counter(votes).most_common(1)[0][0]\r\n",
    "    \"\"\"Counter(votes).most_common(1)[0][1] returns the number of most common value.\"\"\"\r\n",
    "    confidence = Counter(votes).most_common(1)[0][1]/k\r\n",
    "    return vote_result, confidence"
   ],
   "outputs": [],
   "metadata": {}
  },
  {
   "cell_type": "code",
   "execution_count": 5,
   "source": [
    "result = k_nearest_neighbors(dataset, new_features, k=3)\r\n",
    "print(result)"
   ],
   "outputs": [
    {
     "output_type": "stream",
     "name": "stdout",
     "text": [
      "('r', 1.0)\n"
     ]
    }
   ],
   "metadata": {}
  },
  {
   "cell_type": "code",
   "execution_count": 6,
   "source": [
    "[[plt.scatter(ii[0], ii[1], s=100, color=i) for ii in dataset[i]] for i in dataset]\r\n",
    "plt.scatter(new_features[0], new_features[1], color=result[0])\r\n",
    "plt.show()"
   ],
   "outputs": [
    {
     "output_type": "display_data",
     "data": {
      "text/plain": [
       "<Figure size 432x288 with 1 Axes>"
      ],
      "image/png": "[encoded data removed]"
     },
     "metadata": {}
    }
   ],
   "metadata": {}
  },
  {
   "cell_type": "code",
   "execution_count": 7,
   "source": [
    "df = pd.read_csv(\"Data/breast-cancer-wisconsin.data\")\r\n",
    "\r\n",
    "df.replace('?', -99999, inplace=True)\r\n",
    "\"\"\"id column is pretty useless. Also it ruins the KNN accuracy.\"\"\"\r\n",
    "df.drop(['id'], 1, inplace=True)\r\n",
    "df.head()"
   ],
   "outputs": [
    {
     "output_type": "execute_result",
     "data": {
      "text/plain": [
       "   clump_thickness  unif_cell_size  unif_cell_shape  marg_adhesion  \\\n",
       "0                5               1                1              1   \n",
       "1                5               4                4              5   \n",
       "2                3               1                1              1   \n",
       "3                6               8                8              1   \n",
       "4                4               1                1              3   \n",
       "\n",
       "   single_epith_cell_size bare_nuclei  bland_chrom  norm_nucleoli  mitoses  \\\n",
       "0                       2           1            3              1        1   \n",
       "1                       7          10            3              2        1   \n",
       "2                       2           2            3              1        1   \n",
       "3                       3           4            3              7        1   \n",
       "4                       2           1            3              1        1   \n",
       "\n",
       "   class  \n",
       "0      2  \n",
       "1      2  \n",
       "2      2  \n",
       "3      2  \n",
       "4      2  "
      ],
      "text/html": [
       "<div>\n",
       "<style scoped>\n",
       "    .dataframe tbody tr th:only-of-type {\n",
       "        vertical-align: middle;\n",
       "    }\n",
       "\n",
       "    .dataframe tbody tr th {\n",
       "        vertical-align: top;\n",
       "    }\n",
       "\n",
       "    .dataframe thead th {\n",
       "        text-align: right;\n",
       "    }\n",
       "</style>\n",
       "<table border=\"1\" class=\"dataframe\">\n",
       "  <thead>\n",
       "    <tr style=\"text-align: right;\">\n",
       "      <th></th>\n",
       "      <th>clump_thickness</th>\n",
       "      <th>unif_cell_size</th>\n",
       "      <th>unif_cell_shape</th>\n",
       "      <th>marg_adhesion</th>\n",
       "      <th>single_epith_cell_size</th>\n",
       "      <th>bare_nuclei</th>\n",
       "      <th>bland_chrom</th>\n",
       "      <th>norm_nucleoli</th>\n",
       "      <th>mitoses</th>\n",
       "      <th>class</th>\n",
       "    </tr>\n",
       "  </thead>\n",
       "  <tbody>\n",
       "    <tr>\n",
       "      <th>0</th>\n",
       "      <td>5</td>\n",
       "      <td>1</td>\n",
       "      <td>1</td>\n",
       "      <td>1</td>\n",
       "      <td>2</td>\n",
       "      <td>1</td>\n",
       "      <td>3</td>\n",
       "      <td>1</td>\n",
       "      <td>1</td>\n",
       "      <td>2</td>\n",
       "    </tr>\n",
       "    <tr>\n",
       "      <th>1</th>\n",
       "      <td>5</td>\n",
       "      <td>4</td>\n",
       "      <td>4</td>\n",
       "      <td>5</td>\n",
       "      <td>7</td>\n",
       "      <td>10</td>\n",
       "      <td>3</td>\n",
       "      <td>2</td>\n",
       "      <td>1</td>\n",
       "      <td>2</td>\n",
       "    </tr>\n",
       "    <tr>\n",
       "      <th>2</th>\n",
       "      <td>3</td>\n",
       "      <td>1</td>\n",
       "      <td>1</td>\n",
       "      <td>1</td>\n",
       "      <td>2</td>\n",
       "      <td>2</td>\n",
       "      <td>3</td>\n",
       "      <td>1</td>\n",
       "      <td>1</td>\n",
       "      <td>2</td>\n",
       "    </tr>\n",
       "    <tr>\n",
       "      <th>3</th>\n",
       "      <td>6</td>\n",
       "      <td>8</td>\n",
       "      <td>8</td>\n",
       "      <td>1</td>\n",
       "      <td>3</td>\n",
       "      <td>4</td>\n",
       "      <td>3</td>\n",
       "      <td>7</td>\n",
       "      <td>1</td>\n",
       "      <td>2</td>\n",
       "    </tr>\n",
       "    <tr>\n",
       "      <th>4</th>\n",
       "      <td>4</td>\n",
       "      <td>1</td>\n",
       "      <td>1</td>\n",
       "      <td>3</td>\n",
       "      <td>2</td>\n",
       "      <td>1</td>\n",
       "      <td>3</td>\n",
       "      <td>1</td>\n",
       "      <td>1</td>\n",
       "      <td>2</td>\n",
       "    </tr>\n",
       "  </tbody>\n",
       "</table>\n",
       "</div>"
      ]
     },
     "metadata": {},
     "execution_count": 7
    }
   ],
   "metadata": {}
  },
  {
   "cell_type": "code",
   "execution_count": 8,
   "source": [
    "\"\"\"\r\n",
    "Some numbers in this data are char or string.\r\n",
    "Everything in this dataframe ought to be int or float.\r\n",
    "\"\"\"\r\n",
    "full_data = df.astype(float).values.tolist()\r\n",
    "full_data[:10]"
   ],
   "outputs": [
    {
     "output_type": "execute_result",
     "data": {
      "text/plain": [
       "[[5.0, 1.0, 1.0, 1.0, 2.0, 1.0, 3.0, 1.0, 1.0, 2.0],\n",
       " [5.0, 4.0, 4.0, 5.0, 7.0, 10.0, 3.0, 2.0, 1.0, 2.0],\n",
       " [3.0, 1.0, 1.0, 1.0, 2.0, 2.0, 3.0, 1.0, 1.0, 2.0],\n",
       " [6.0, 8.0, 8.0, 1.0, 3.0, 4.0, 3.0, 7.0, 1.0, 2.0],\n",
       " [4.0, 1.0, 1.0, 3.0, 2.0, 1.0, 3.0, 1.0, 1.0, 2.0],\n",
       " [8.0, 10.0, 10.0, 8.0, 7.0, 10.0, 9.0, 7.0, 1.0, 4.0],\n",
       " [1.0, 1.0, 1.0, 1.0, 2.0, 10.0, 3.0, 1.0, 1.0, 2.0],\n",
       " [2.0, 1.0, 2.0, 1.0, 2.0, 1.0, 3.0, 1.0, 1.0, 2.0],\n",
       " [2.0, 1.0, 1.0, 1.0, 2.0, 1.0, 1.0, 1.0, 5.0, 2.0],\n",
       " [4.0, 2.0, 1.0, 1.0, 2.0, 1.0, 2.0, 1.0, 1.0, 2.0]]"
      ]
     },
     "metadata": {},
     "execution_count": 8
    }
   ],
   "metadata": {
    "tags": []
   }
  },
  {
   "cell_type": "code",
   "execution_count": 9,
   "source": [
    "\"\"\"random.shuffle replaces the original data.\"\"\"\r\n",
    "random.shuffle(full_data)\r\n",
    "full_data[:10]"
   ],
   "outputs": [
    {
     "output_type": "execute_result",
     "data": {
      "text/plain": [
       "[[5.0, 10.0, 10.0, 9.0, 6.0, 10.0, 7.0, 10.0, 5.0, 4.0],\n",
       " [5.0, 2.0, 1.0, 1.0, 2.0, 1.0, 3.0, 1.0, 1.0, 2.0],\n",
       " [3.0, 1.0, 1.0, 1.0, 2.0, 1.0, 1.0, 1.0, 1.0, 2.0],\n",
       " [5.0, 3.0, 3.0, 2.0, 3.0, 1.0, 3.0, 1.0, 1.0, 2.0],\n",
       " [10.0, 10.0, 10.0, 8.0, 6.0, 8.0, 7.0, 10.0, 1.0, 4.0],\n",
       " [5.0, 3.0, 1.0, 1.0, 2.0, 1.0, 1.0, 1.0, 1.0, 2.0],\n",
       " [5.0, 1.0, 1.0, 1.0, 2.0, 1.0, 3.0, 1.0, 1.0, 2.0],\n",
       " [3.0, 1.0, 1.0, 1.0, 1.0, 1.0, 1.0, 1.0, 1.0, 2.0],\n",
       " [4.0, 1.0, 1.0, 1.0, 2.0, 1.0, 3.0, 1.0, 1.0, 2.0],\n",
       " [2.0, 1.0, 1.0, 1.0, 2.0, 1.0, 1.0, 1.0, 1.0, 2.0]]"
      ]
     },
     "metadata": {},
     "execution_count": 9
    }
   ],
   "metadata": {}
  },
  {
   "cell_type": "code",
   "execution_count": 10,
   "source": [
    "\"\"\"Preparing the Data\"\"\"\r\n",
    "test_size = 0.2\r\n",
    "train_set = {2:[], 4:[]}\r\n",
    "test_set = {2:[], 4:[]}\r\n",
    "train_data = full_data[:-int(test_size * len(full_data))]\r\n",
    "test_data = full_data[-int(test_size * len(full_data)):]\r\n",
    "\r\n",
    "for i in train_data: \r\n",
    "    \"\"\"\r\n",
    "    i[-1] is the last column of dataset. It's 2 or 4.\r\n",
    "    So the next line adds data of all the columns except the last one\r\n",
    "    to the dictionary and sort them by 2 or 4.\r\n",
    "    \"\"\"\r\n",
    "    train_set[i[-1]].append(i[:-1])\r\n",
    "\r\n",
    "for i in test_data:\r\n",
    "    test_set[i[-1]].append(i[:-1])"
   ],
   "outputs": [],
   "metadata": {}
  },
  {
   "cell_type": "code",
   "execution_count": 11,
   "source": [
    "\"\"\"\r\n",
    "Increasing the k value doesn't always increase the accuracy.\r\n",
    "(For k=400 the accuracy is very awful.)\r\n",
    "\"\"\"\r\n",
    "correct = 0\r\n",
    "total = 0\r\n",
    "for group in test_set:\r\n",
    "    \"\"\"group is just 2 or 4.\"\"\" \r\n",
    "    # print(group)\r\n",
    "    for data in test_set[group]:\r\n",
    "        vote, confidence = k_nearest_neighbors(train_set, data, k=5)\r\n",
    "        if group == vote:\r\n",
    "            correct += 1\r\n",
    "        else:\r\n",
    "            \"\"\"Printing incurrept votes confidence\"\"\"\r\n",
    "            print(confidence)\r\n",
    "        total += 1\r\n",
    "\r\n",
    "print('Accuracy:', correct/total)"
   ],
   "outputs": [
    {
     "output_type": "stream",
     "name": "stdout",
     "text": [
      "0.8\n",
      "1.0\n",
      "0.6\n",
      "Accuracy: 0.9784172661870504\n"
     ]
    }
   ],
   "metadata": {}
  },
  {
   "cell_type": "code",
   "execution_count": 12,
   "source": [
    "\"\"\"Preparing the Data\"\"\"\r\n",
    "test_size = 0.4\r\n",
    "train_set = {2:[], 4:[]}\r\n",
    "test_set = {2:[], 4:[]}\r\n",
    "train_data = full_data[:-int(test_size * len(full_data))]\r\n",
    "test_data = full_data[-int(test_size * len(full_data)):]\r\n",
    "\r\n",
    "for i in train_data: \r\n",
    "    \"\"\"\r\n",
    "    i[-1] is the last column of dataset. It's 2 or 4.\r\n",
    "    So the next line adds data of all the columns except the last one\r\n",
    "    to the dictionary and sort them by 2 or 4.\r\n",
    "    \"\"\"\r\n",
    "    train_set[i[-1]].append(i[:-1])\r\n",
    "\r\n",
    "for i in test_data:\r\n",
    "    test_set[i[-1]].append(i[:-1])"
   ],
   "outputs": [],
   "metadata": {}
  },
  {
   "cell_type": "code",
   "execution_count": 13,
   "source": [
    "\"\"\"\r\n",
    "Increasing the k value doesn't always increase the accuracy.\r\n",
    "(For k=400 the accuracy is very awful.)\r\n",
    "\"\"\"\r\n",
    "correct = 0\r\n",
    "total = 0\r\n",
    "for group in test_set:\r\n",
    "    \"\"\"group is just 2 or 4.\"\"\" \r\n",
    "    # print(group)\r\n",
    "    for data in test_set[group]:\r\n",
    "        vote, confidence = k_nearest_neighbors(train_set, data, k=5)\r\n",
    "        if group == vote:\r\n",
    "            correct += 1\r\n",
    "        else:\r\n",
    "            \"\"\"Printing incurrept votes confidence\"\"\"\r\n",
    "            print(confidence)\r\n",
    "        total += 1\r\n",
    "\r\n",
    "print('Accuracy:', correct/total)"
   ],
   "outputs": [
    {
     "output_type": "stream",
     "name": "stdout",
     "text": [
      "0.8\n",
      "0.8\n",
      "0.8\n",
      "0.8\n",
      "1.0\n",
      "0.8\n",
      "0.6\n",
      "1.0\n",
      "0.6\n",
      "0.8\n",
      "Accuracy: 0.96415770609319\n"
     ]
    }
   ],
   "metadata": {}
  },
  {
   "cell_type": "markdown",
   "source": [
    "### Calculating Overall Accuracy"
   ],
   "metadata": {}
  },
  {
   "cell_type": "code",
   "execution_count": 14,
   "source": [
    "accuracies = list()\r\n",
    "\r\n",
    "for i in range(25):\r\n",
    "    df = pd.read_csv(\"Data/breast-cancer-wisconsin.data\")\r\n",
    "\r\n",
    "    df.replace('?', -99999, inplace=True)\r\n",
    "    \"\"\"id column is pretty useless. Also it ruins the KNN accuracy.\"\"\"\r\n",
    "    df.drop(['id'], 1, inplace=True) \r\n",
    "    full_data = df.astype(float).values.tolist()\r\n",
    "    random.shuffle(full_data)\r\n",
    "    \"\"\"Preparing the Data\"\"\"\r\n",
    "    test_size = 0.2\r\n",
    "    train_set = {2:[], 4:[]}\r\n",
    "    test_set = {2:[], 4:[]}\r\n",
    "    train_data = full_data[:-int(test_size * len(full_data))]\r\n",
    "    test_data = full_data[-int(test_size * len(full_data)):]\r\n",
    "\r\n",
    "    for i in train_data: \r\n",
    "        \"\"\"\r\n",
    "        i[-1] is the last column of dataset. It's 2 or 4.\r\n",
    "        So the next line adds data of all the columns except the last one\r\n",
    "        to the dictionary and sort them by 2 or 4.\r\n",
    "        \"\"\"\r\n",
    "        train_set[i[-1]].append(i[:-1])\r\n",
    "\r\n",
    "    for i in test_data:\r\n",
    "        test_set[i[-1]].append(i[:-1])\r\n",
    "\r\n",
    "\r\n",
    "    correct = 0\r\n",
    "    total = 0\r\n",
    "    for group in test_set:\r\n",
    "        \"\"\"group is just 2 or 4.\"\"\" \r\n",
    "        # print(group)\r\n",
    "        for data in test_set[group]:\r\n",
    "            vote, confidence = k_nearest_neighbors(train_set, data, k=5)\r\n",
    "            if group == vote:\r\n",
    "                correct += 1\r\n",
    "            # else:\r\n",
    "            #     \"\"\"Printing incurrept votes confidence\"\"\"\r\n",
    "            #     print(confidence)\r\n",
    "            total += 1\r\n",
    "\r\n",
    "    # print('Accuracy:', correct/total)\r\n",
    "    accuracies.append(correct/total)\r\n",
    "    \r\n",
    "print(sum(accuracies)/len(accuracies))\r\n",
    "\r\n",
    "    "
   ],
   "outputs": [],
   "metadata": {}
  }
 ]
}